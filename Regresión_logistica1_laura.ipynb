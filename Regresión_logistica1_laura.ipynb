{
  "cells": [
    {
      "cell_type": "code",
      "execution_count": null,
      "metadata": {
        "id": "G2XMLtp3Czod"
      },
      "outputs": [],
      "source": [
        "import numpy as np\n",
        "import random\n",
        "import matplotlib.pyplot as plt\n",
        "from numpy import inf\n",
        "from sklearn.linear_model import LogisticRegression\n",
        "from sklearn.model_selection import train_test_split"
      ]
    },
    {
      "cell_type": "code",
      "execution_count": null,
      "metadata": {
        "id": "OyMGY-uOCzoj"
      },
      "outputs": [],
      "source": [
        "muestras= np.array(\n",
        "    [[6.2206, 3.5095],\n",
        "    [5.1325, 4.0181],\n",
        "    [0.7597, 2.3992],\n",
        "    [1.2332, 6.8391],\n",
        "    [2.3995, 4.1727],\n",
        "    [0.4965, 9.0272],\n",
        "    [9.4479, 4.9086],\n",
        "    [4.8925, 3.3772],\n",
        "    [9.0005, 3.6925],\n",
        "    [1.1120, 7.8025]\n",
        "    ])\n",
        "\n",
        "clases=np.array([1, 1, 0, 0, 0, 0, 1, 1, 1, 0]);\n"
      ]
    },
    {
      "cell_type": "code",
      "execution_count": null,
      "metadata": {
        "id": "yz21OTA4Czoo"
      },
      "outputs": [],
      "source": [
        "def recta(x):\n",
        "    return 0"
      ]
    },
    {
      "cell_type": "code",
      "execution_count": null,
      "metadata": {
        "colab": {
          "base_uri": "https://localhost:8080/",
          "height": 265
        },
        "id": "hczDwiX0Czos",
        "outputId": "6027bbb3-f866-4dbd-e615-0790535d5502"
      },
      "outputs": [
        {
          "output_type": "display_data",
          "data": {
            "text/plain": [
              "<Figure size 432x288 with 1 Axes>"
            ],
            "image/png": "[encoded data removed]"
          },
          "metadata": {
            "needs_background": "light"
          }
        }
      ],
      "source": [
        "\n",
        "fig = plt.figure()\n",
        "x = np.arange(-2, 12, 0.1)\n",
        "yscale = np.arange(-2, 12, 1)\n",
        "xscale = np.arange(-2, 12, 1)\n",
        "clase1 = muestras[np.where(clases==0), :][0]\n",
        "clase2 = muestras[np.where(clases==1), :][0]\n",
        "\n",
        "plt.scatter(clase1[:,0], clase1[:,1], c=['red'])\n",
        "plt.scatter(clase2[:,0], clase2[:,1], c=['blue'])\n",
        "\n",
        "\n",
        "\n",
        "plt.show()"
      ]
    },
    {
      "cell_type": "markdown",
      "metadata": {
        "id": "lIpkDMo7ChFn"
      },
      "source": [
        "1- Encontrar una función(cualquiera) de una recta que divida el conjunto de datos:\n",
        "\n",
        "$x_2 = \\theta_1 x_1 + \\theta_0$\n",
        "\n",
        "\n",
        "\n"
      ]
    },
    {
      "cell_type": "code",
      "source": [
        "X_train, X_test, y_train, y_test = train_test_split(muestras, clases, random_state=42)\n",
        "\n",
        "clf = LogisticRegression(random_state=0).fit(X_train, y_train)\n",
        "\n",
        "\n",
        "# Coeficientes de la recta de separación\n",
        "theta_1 = clf.coef_[0][0]\n",
        "theta_2 = clf.coef_[0][1]\n",
        "theta_0 = clf.intercept_[0]\n",
        "\n",
        "print(\"La recta de separación es: x2 = {}x1 + {}\".format(theta_1/theta_2, -theta_0/theta_2))"
      ],
      "metadata": {
        "colab": {
          "base_uri": "https://localhost:8080/"
        },
        "id": "tnjytMQnNoPV",
        "outputId": "be6d500a-e070-49fd-c0fa-9052ac7189d3"
      },
      "execution_count": null,
      "outputs": [
        {
          "output_type": "stream",
          "name": "stdout",
          "text": [
            "La recta de separación es: x2 = -3.7572774173913404x1 + -10.39483531803863\n"
          ]
        }
      ]
    },
    {
      "cell_type": "code",
      "source": [
        "import matplotlib.pyplot as plt\n",
        "\n",
        "plt.scatter(muestras[:, 0], muestras[:, 1], c=clases)\n",
        "plt.plot([0, 10], [-theta_0/theta_2, (-theta_0 - theta_1*10)/theta_2], c='r')\n",
        "plt.xlabel('x1')\n",
        "plt.ylabel('x2')\n",
        "plt.show()\n"
      ],
      "metadata": {
        "id": "VhnUXhb5G5IA",
        "colab": {
          "base_uri": "https://localhost:8080/",
          "height": 279
        },
        "outputId": "cd017181-fc0a-43c0-db84-11531674f9bc"
      },
      "execution_count": null,
      "outputs": [
        {
          "output_type": "display_data",
          "data": {
            "text/plain": [
              "<Figure size 432x288 with 1 Axes>"
            ],
            "image/png": "[encoded data removed]"
          },
          "metadata": {
            "needs_background": "light"
          }
        }
      ]
    },
    {
      "cell_type": "markdown",
      "source": [
        "2- crear la función:\n",
        "\n",
        "$f(x_1, x_2) = \\theta_1 x_1 + \\theta_0 - x_2$\n",
        "\n"
      ],
      "metadata": {
        "id": "pu7jb3riIT4V"
      }
    },
    {
      "cell_type": "code",
      "execution_count": null,
      "metadata": {
        "id": "MMbPogAYH469"
      },
      "outputs": [],
      "source": [
        "def f(x1, x2):\n",
        "  return theta_1 *x1 + theta_0-x2"
      ]
    },
    {
      "cell_type": "markdown",
      "source": [
        "3- Ubicar tres puntos en la gráfica:\n",
        "\n",
        "a) uno por encima de la línea\n",
        "\n",
        "b) uno sobre la línea\n",
        "\n",
        "c) Uno por debajo de la línea\n",
        "\n"
      ],
      "metadata": {
        "id": "C64bNvdFIWVk"
      }
    },
    {
      "cell_type": "code",
      "source": [
        "plt.figure(figsize=(15,10))\n",
        "plt.scatter(muestras[clases==0,0], muestras[clases==0,1], label='Clase 0')\n",
        "plt.scatter(muestras[clases==1,0], muestras[clases==1,1], label='Clase 1')\n",
        "\n",
        "\n",
        "plt.plot([0, 10], [-theta_0/theta_2, (-theta_0 - theta_1*10)/theta_2], c='r')\n",
        "\n",
        "# Graficar el punto por debajo de la línea\n",
        "plt.scatter(6.0, 1, color='red', label='Por debajo de la línea punto(6, 1)')\n",
        "\n",
        "# Graficar el punto sobre la linea\n",
        "\n",
        "plt.scatter(3.96, 4.5, color='purple', label='Sobre la linea punto(3.96, 4.5)')\n",
        "\n",
        "# Graficar el punto por encima de la línea\n",
        "plt.scatter(2, 4, color='pink', label='Por encima de la linea punto(2, 4)')\n",
        "\n",
        "plt.legend()\n",
        "plt.xlabel('X1')\n",
        "plt.ylabel('X2')\n",
        "\n",
        "\n",
        "plt.show()"
      ],
      "metadata": {
        "colab": {
          "base_uri": "https://localhost:8080/",
          "height": 606
        },
        "id": "gWy_4P8FQYFW",
        "outputId": "3cacc3fb-fbdf-4a22-856c-e6e5baa60434"
      },
      "execution_count": null,
      "outputs": [
        {
          "output_type": "display_data",
          "data": {
            "text/plain": [
              "<Figure size 1080x720 with 1 Axes>"
            ],
            "image/png": "[encoded data removed]"
          },
          "metadata": {
            "needs_background": "light"
          }
        }
      ]
    },
    {
      "cell_type": "markdown",
      "source": [
        "4 - ¿Cuánto da la función $f(x_1, x_2)$  en cada uno de estos puntos?\n",
        "\n",
        "4b- En general, ¿cuańto da un punto que está por encima de la línea, uno que está sobre la línea y otro que está debajo?\n",
        "\n"
      ],
      "metadata": {
        "id": "TgADuI7pIY4z"
      }
    },
    {
      "cell_type": "code",
      "source": [
        "#punto 4\n",
        "print(\"La función con un punto por debajo (6,1) da: \",f(6,1));\n",
        "print(\"La función con un punto sobre (3.96,4.5) da: \",f(3.96,4.5));\n",
        "print(\"La función con un punto por encima (2,4) da: \",f(2,4));\n"
      ],
      "metadata": {
        "colab": {
          "base_uri": "https://localhost:8080/"
        },
        "id": "68D0767vTSd1",
        "outputId": "6d482d48-7ff9-4c80-a3e5-bd583020e5be"
      },
      "execution_count": null,
      "outputs": [
        {
          "output_type": "stream",
          "name": "stdout",
          "text": [
            "La función con un punto por debajo (6,1) da:  2.302301537285315\n",
            "La función con un punto sobre (3.96,4.5) da:  -3.2811611663552815\n",
            "La función con un punto por encima (2,4) da:  -4.7829194502452665\n"
          ]
        }
      ]
    },
    {
      "cell_type": "markdown",
      "source": [
        "5 - ¿A cuánto tiende un punto que está lejos de la línea por debajo? ¿A cuanto tiende un punto que está lejos de la línea por encima?\n",
        "\n"
      ],
      "metadata": {
        "id": "lChkESAeIbGK"
      }
    },
    {
      "cell_type": "markdown",
      "source": [
        "6 - Dibujar la gráfica z vs sigmoid(z). A cuánto tiende sigmoid cuando:\n",
        "\n",
        "\n",
        "sigmoid(z) = $\\frac{1}{1+e^{-z}}$\n",
        "\n",
        "\n",
        "a) z tiende a infinito\n",
        "b) z es cero\n",
        "c) z tiene a -infinito\n"
      ],
      "metadata": {
        "id": "t-m06gW0IdDn"
      }
    },
    {
      "cell_type": "code",
      "execution_count": null,
      "metadata": {
        "id": "Wf1OWWCtCzox"
      },
      "outputs": [],
      "source": [
        "def sigmoid(z):\n",
        "  return 1 / (1 + np.exp(-z))"
      ]
    },
    {
      "cell_type": "markdown",
      "source": [
        "La siguientes gráficas representan los 3 casos:\n",
        "1. Cuando z tiende a infinito se acerca a 1\n",
        "2. Cuando z es cero vale 0.5\n",
        "3. Cuando z tiende a menos infinito se acerca a 0"
      ],
      "metadata": {
        "id": "PskJwAhoZ48V"
      }
    },
    {
      "cell_type": "code",
      "source": [
        "z = np.linspace(-10, 10, 100)\n",
        "s = sigmoid(z)\n",
        "\n",
        "plt.plot(z,s)\n",
        "plt.axvline(x=10, color='r', linestyle='--')  # línea vertical en z = 10\n",
        "plt.axhline(y=1, color='r', linestyle='--')   # línea horizontal en y = 1\n",
        "plt.xlabel(\"z\")\n",
        "plt.ylabel(\"sigmoid(z)\")\n",
        "plt.title('GRáfica de sigmoid(z) cuando z tiende a infinito')\n",
        "plt.show()"
      ],
      "metadata": {
        "colab": {
          "base_uri": "https://localhost:8080/",
          "height": 295
        },
        "id": "BU58AbT6W-w1",
        "outputId": "5e8c475d-cd7f-4028-adb9-eba229f214cc"
      },
      "execution_count": null,
      "outputs": [
        {
          "output_type": "display_data",
          "data": {
            "text/plain": [
              "<Figure size 432x288 with 1 Axes>"
            ],
            "image/png": "[encoded data removed]"
          },
          "metadata": {
            "needs_background": "light"
          }
        }
      ]
    },
    {
      "cell_type": "code",
      "source": [
        "plt.plot(z,s)\n",
        "plt.axvline(x=0.0, color='r', linestyle='--')  # línea vertical en z = 10\n",
        "plt.axhline(y=0.5, color='r', linestyle='--')   # línea horizontal en y = 1\n",
        "plt.xlabel(\"z\")\n",
        "plt.ylabel(\"sigmoid(z)\")\n",
        "plt.title('GRáfica de sigmoid(z) cuando z es 0')\n",
        "plt.show()"
      ],
      "metadata": {
        "colab": {
          "base_uri": "https://localhost:8080/",
          "height": 295
        },
        "id": "V_hHp2X2bB1t",
        "outputId": "2c44b42e-68e0-4947-af38-b21008a11ec0"
      },
      "execution_count": null,
      "outputs": [
        {
          "output_type": "display_data",
          "data": {
            "text/plain": [
              "<Figure size 432x288 with 1 Axes>"
            ],
            "image/png": "[encoded data removed]"
          },
          "metadata": {
            "needs_background": "light"
          }
        }
      ]
    },
    {
      "cell_type": "code",
      "source": [
        "plt.plot(z,s)\n",
        "plt.axvline(x=-10, color='r', linestyle='--')  # línea vertical en z = 10\n",
        "plt.axhline(y=0.0, color='r', linestyle='--')   # línea horizontal en y = 1\n",
        "plt.xlabel(\"z\")\n",
        "plt.ylabel(\"sigmoid(z)\")\n",
        "plt.title('GRáfica de sigmoid(z) cuando z tiende a menos infinito')\n",
        "plt.show()"
      ],
      "metadata": {
        "colab": {
          "base_uri": "https://localhost:8080/",
          "height": 295
        },
        "id": "vBnXud5_a1eH",
        "outputId": "07cd70a5-2f60-4e13-ca4b-17e4f1bdde20"
      },
      "execution_count": null,
      "outputs": [
        {
          "output_type": "display_data",
          "data": {
            "text/plain": [
              "<Figure size 432x288 with 1 Axes>"
            ],
            "image/png": "[encoded data removed]"
          },
          "metadata": {
            "needs_background": "light"
          }
        }
      ]
    },
    {
      "cell_type": "markdown",
      "source": [
        "\n",
        "7 - cree una función:\n",
        "\n",
        " $g(x_1, x_2) = sigmoid(f(x_1, x_2))$\n",
        "\n",
        " donde $f(x_1, x_2)$ es la función creada anteriormente.\n",
        "\n"
      ],
      "metadata": {
        "id": "1L7tUkykIfwb"
      }
    },
    {
      "cell_type": "markdown",
      "source": [
        " 8 - responda los puntos 4 y 5  pero en lugar de utilizar la función $f(x_1, x_2)$, utilice $g(x_1, x_2)$\n",
        "\n"
      ],
      "metadata": {
        "id": "aTE3IfMAIhMA"
      }
    },
    {
      "cell_type": "markdown",
      "source": [
        " 9 - entrenar un modelo utilizando sklearn Logistic Regression. Dibujar la línea encontrada por el algoritmo."
      ],
      "metadata": {
        "id": "6BBUid-eIi2D"
      }
    },
    {
      "cell_type": "code",
      "source": [
        "#continuacion"
      ],
      "metadata": {
        "id": "fh6gVbzjei6u"
      },
      "execution_count": null,
      "outputs": []
    },
    {
      "cell_type": "code",
      "source": [],
      "metadata": {
        "id": "8VpZuVwQulze"
      },
      "execution_count": null,
      "outputs": []
    },
    {
      "cell_type": "code",
      "source": [
        "from sklearn.linear_model import LinearRegression"
      ],
      "metadata": {
        "id": "TQUzVvNgeq6N"
      },
      "execution_count": null,
      "outputs": []
    },
    {
      "cell_type": "code",
      "source": [
        "X_train, X_test, y_train, y_test = train_test_split(muestras, clases, random_state=42)\n",
        "\n",
        "model = LogisticRegression(random_state=0).fit(X_train, y_train)\n",
        "model.coef_"
      ],
      "metadata": {
        "id": "EZIlzxUJkVeN",
        "outputId": "5ec1d397-c64e-49ca-e884-b4ba0000ea14",
        "colab": {
          "base_uri": "https://localhost:8080/"
        }
      },
      "execution_count": null,
      "outputs": [
        {
          "output_type": "execute_result",
          "data": {
            "text/plain": [
              "array([[ 1.02130525, -0.27182056]])"
            ]
          },
          "metadata": {},
          "execution_count": 16
        }
      ]
    },
    {
      "cell_type": "code",
      "source": [
        "model.intercept_"
      ],
      "metadata": {
        "colab": {
          "base_uri": "https://localhost:8080/"
        },
        "id": "h6k9sB6HfxR5",
        "outputId": "a636f511-d7f9-4900-b6b9-a8a6c71c18eb"
      },
      "execution_count": null,
      "outputs": [
        {
          "output_type": "execute_result",
          "data": {
            "text/plain": [
              "array([-2.82552994])"
            ]
          },
          "metadata": {},
          "execution_count": 17
        }
      ]
    },
    {
      "cell_type": "code",
      "source": [
        "y_predict = model.coef_[0][0] * muestras + model.intercept_"
      ],
      "metadata": {
        "id": "sPH10rjof0kM"
      },
      "execution_count": null,
      "outputs": []
    },
    {
      "cell_type": "code",
      "source": [
        "plt.scatter(muestras[clases==0,0], muestras[clases==0,1], label='Clase 0')\n",
        "plt.scatter(muestras[clases==1,0], muestras[clases==1,1], label='Clase 1')\n",
        "plt.plot(muestras,y_predict)"
      ],
      "metadata": {
        "colab": {
          "base_uri": "https://localhost:8080/",
          "height": 300
        },
        "id": "PEJROJYBgJJg",
        "outputId": "421c972a-5b68-4ade-d037-14ececa7b401"
      },
      "execution_count": null,
      "outputs": [
        {
          "output_type": "execute_result",
          "data": {
            "text/plain": [
              "[<matplotlib.lines.Line2D at 0x7f9d3ba3aa00>,\n",
              " <matplotlib.lines.Line2D at 0x7f9d3ba3aa60>]"
            ]
          },
          "metadata": {},
          "execution_count": 19
        },
        {
          "output_type": "display_data",
          "data": {
            "text/plain": [
              "<Figure size 432x288 with 1 Axes>"
            ],
            "image/png": "[encoded data removed]"
          },
          "metadata": {
            "needs_background": "light"
          }
        }
      ]
    },
    {
      "cell_type": "markdown",
      "source": [
        "#Ahora se implementa la función del gradiente descendiente\n"
      ],
      "metadata": {
        "id": "AUwT4P6APPlJ"
      }
    },
    {
      "cell_type": "code",
      "source": [
        "gradiente = []\n",
        "m = 0\n",
        "alpha = 0.01\n",
        "sumatoria = 0\n",
        "muestras = muestras.reshape(-1,1)\n",
        "#sumatoria = suma(ygorrito-y)* xi\n",
        "\n",
        "for i in range(100):\n",
        "  sumatoria = -2*((( (m*muestras) - clases ) * muestras).sum())/len(muestras)\n",
        "  m = m - alpha * sumatoria"
      ],
      "metadata": {
        "id": "My29io__PVyV"
      },
      "execution_count": null,
      "outputs": []
    },
    {
      "cell_type": "code",
      "source": [
        "print(m)"
      ],
      "metadata": {
        "id": "8ZLE6KGUQG4C",
        "colab": {
          "base_uri": "https://localhost:8080/"
        },
        "outputId": "b91a126d-dbc5-40d4-ea42-580f6cba6c25"
      },
      "execution_count": null,
      "outputs": [
        {
          "output_type": "stream",
          "name": "stdout",
          "text": [
            "-5.798982032522147e+80\n"
          ]
        }
      ]
    },
    {
      "cell_type": "code",
      "source": [],
      "metadata": {
        "id": "ZBX7uEq6Q34Y"
      },
      "execution_count": null,
      "outputs": []
    }
  ],
  "metadata": {
    "colab": {
      "provenance": []
    },
    "kernelspec": {
      "display_name": "Python 3",
      "language": "python",
      "name": "python3"
    },
    "language_info": {
      "codemirror_mode": {
        "name": "ipython",
        "version": 3
      },
      "file_extension": ".py",
      "mimetype": "text/x-python",
      "name": "python",
      "nbconvert_exporter": "python",
      "pygments_lexer": "ipython3",
      "version": "3.9.5"
    }
  },
  "nbformat": 4,
  "nbformat_minor": 0
}